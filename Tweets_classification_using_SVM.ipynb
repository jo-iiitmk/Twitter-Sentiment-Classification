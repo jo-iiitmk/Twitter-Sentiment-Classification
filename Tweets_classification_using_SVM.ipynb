{
 "cells": [
  {
   "cell_type": "code",
   "execution_count": 1,
   "id": "712391e7",
   "metadata": {},
   "outputs": [],
   "source": [
    "import pandas as pd\n",
    "import numpy as np\n",
    "import seaborn as sns"
   ]
  },
  {
   "cell_type": "code",
   "execution_count": 2,
   "id": "d2a8a309",
   "metadata": {},
   "outputs": [
    {
     "data": {
      "text/html": [
       "<div>\n",
       "<style scoped>\n",
       "    .dataframe tbody tr th:only-of-type {\n",
       "        vertical-align: middle;\n",
       "    }\n",
       "\n",
       "    .dataframe tbody tr th {\n",
       "        vertical-align: top;\n",
       "    }\n",
       "\n",
       "    .dataframe thead th {\n",
       "        text-align: right;\n",
       "    }\n",
       "</style>\n",
       "<table border=\"1\" class=\"dataframe\">\n",
       "  <thead>\n",
       "    <tr style=\"text-align: right;\">\n",
       "      <th></th>\n",
       "      <th>tweet</th>\n",
       "      <th>label</th>\n",
       "    </tr>\n",
       "  </thead>\n",
       "  <tbody>\n",
       "    <tr>\n",
       "      <th>0</th>\n",
       "      <td>Coronavirus | Human Coronavirus Types | CDC ht...</td>\n",
       "      <td>neu</td>\n",
       "    </tr>\n",
       "    <tr>\n",
       "      <th>1</th>\n",
       "      <td>@shehryar_taseer That‚Äôs üíØ true , \\nCorona...</td>\n",
       "      <td>neu</td>\n",
       "    </tr>\n",
       "    <tr>\n",
       "      <th>2</th>\n",
       "      <td>TLDR: Not SARS, possibly new coronavirus. Diff...</td>\n",
       "      <td>neg</td>\n",
       "    </tr>\n",
       "    <tr>\n",
       "      <th>3</th>\n",
       "      <td>Disease outbreak news from the WHO: Middle Eas...</td>\n",
       "      <td>neu</td>\n",
       "    </tr>\n",
       "    <tr>\n",
       "      <th>4</th>\n",
       "      <td>China - Media: WSJ says sources tell them myst...</td>\n",
       "      <td>neu</td>\n",
       "    </tr>\n",
       "  </tbody>\n",
       "</table>\n",
       "</div>"
      ],
      "text/plain": [
       "                                               tweet label\n",
       "0  Coronavirus | Human Coronavirus Types | CDC ht...   neu\n",
       "1  @shehryar_taseer That‚Äôs üíØ true , \\nCorona...   neu\n",
       "2  TLDR: Not SARS, possibly new coronavirus. Diff...   neg\n",
       "3  Disease outbreak news from the WHO: Middle Eas...   neu\n",
       "4  China - Media: WSJ says sources tell them myst...   neu"
      ]
     },
     "execution_count": 2,
     "metadata": {},
     "output_type": "execute_result"
    }
   ],
   "source": [
    "df = pd.read_csv(r\"C:\\Users\\matho\\Downloads\\COVIDSenti-A.csv\")\n",
    "df.head()"
   ]
  },
  {
   "cell_type": "code",
   "execution_count": 3,
   "id": "3ba7d0b8",
   "metadata": {},
   "outputs": [
    {
     "data": {
      "text/plain": [
       "15       The new coronavirus identified by Chinese scie...\n",
       "16       @KariDebbink @Vineet321 The Frieman Scary Scal...\n",
       "17       Genome sequence of the new coronavirus associa...\n",
       "18       Crap, a quick blast search suggests the Wuhan ...\n",
       "19       .@hayesluk summarises novel coronavirus lab fi...\n",
       "                               ...                        \n",
       "29995    CDC: Re-test confirms Westerdam cruise ship pa...\n",
       "29996    Two doctors die of coronavirus within 24 hours...\n",
       "29997    BEIJING - The lockdown of Guo Jing's neighbour...\n",
       "29998    #CoronavirusOutbreak in #Balochistan !!\\n#CPEC...\n",
       "29999    The Australian dollar has hit a fresh decade l...\n",
       "Name: tweet, Length: 29985, dtype: object"
      ]
     },
     "execution_count": 3,
     "metadata": {},
     "output_type": "execute_result"
    }
   ],
   "source": [
    "df['tweet'][15:]"
   ]
  },
  {
   "cell_type": "code",
   "execution_count": 4,
   "id": "e2a96fa9",
   "metadata": {},
   "outputs": [
    {
     "data": {
      "text/plain": [
       "tweet    0\n",
       "label    0\n",
       "dtype: int64"
      ]
     },
     "execution_count": 4,
     "metadata": {},
     "output_type": "execute_result"
    }
   ],
   "source": [
    "df.isnull().sum()"
   ]
  },
  {
   "cell_type": "code",
   "execution_count": 5,
   "id": "c7ea86df",
   "metadata": {},
   "outputs": [
    {
     "data": {
      "text/plain": [
       "neu    22949\n",
       "neg     5083\n",
       "pos     1968\n",
       "Name: label, dtype: int64"
      ]
     },
     "execution_count": 5,
     "metadata": {},
     "output_type": "execute_result"
    }
   ],
   "source": [
    "df['label'].value_counts()"
   ]
  },
  {
   "cell_type": "code",
   "execution_count": 6,
   "id": "b2a78670",
   "metadata": {},
   "outputs": [
    {
     "data": {
      "text/plain": [
       "<AxesSubplot:xlabel='label', ylabel='count'>"
      ]
     },
     "execution_count": 6,
     "metadata": {},
     "output_type": "execute_result"
    },
    {
     "data": {
      "image/png": "[encoded data removed]",
      "text/plain": [
       "<Figure size 432x288 with 1 Axes>"
      ]
     },
     "metadata": {
      "needs_background": "light"
     },
     "output_type": "display_data"
    }
   ],
   "source": [
    "sns.countplot(x='label',data =df)"
   ]
  },
  {
   "cell_type": "code",
   "execution_count": 7,
   "id": "0c6ebd3d",
   "metadata": {},
   "outputs": [],
   "source": [
    "import re\n",
    "import nltk\n",
    "from nltk.stem.porter import PorterStemmer\n",
    "from nltk.corpus import stopwords\n",
    "stop_words = set(stopwords.words('english'))"
   ]
  },
  {
   "cell_type": "code",
   "execution_count": 8,
   "id": "30d26f32",
   "metadata": {},
   "outputs": [],
   "source": [
    "def preprocess_word(word):\n",
    "    # Remove punctuation\n",
    "    word = word.strip('\\'\"?!,.():;')\n",
    "    # Convert more than 2 letter repetitions to 2 letter\n",
    "    # funnnnny --> funny\n",
    "    word = re.sub(r'(.)\\1+', r'\\1\\1', word)\n",
    "    # Remove - & '\n",
    "    word = re.sub(r'(-|\\')', '', word)\n",
    "    return word"
   ]
  },
  {
   "cell_type": "code",
   "execution_count": 9,
   "id": "a607fbcc",
   "metadata": {},
   "outputs": [
    {
     "data": {
      "text/plain": [
       "\"def is_valid_word(word):\\n    # Checking if word begins with an alphabet\\n    return (re.search(r'^[a-zA-Z][a-z0-9A-Z\\\\._]*$', word) is not None)\\n    \""
      ]
     },
     "execution_count": 9,
     "metadata": {},
     "output_type": "execute_result"
    }
   ],
   "source": [
    "'''def is_valid_word(word):\n",
    "    # Checking if word begins with an alphabet\n",
    "    return (re.search(r'^[a-zA-Z][a-z0-9A-Z\\._]*$', word) is not None)\n",
    "    '''"
   ]
  },
  {
   "cell_type": "code",
   "execution_count": 10,
   "id": "0321a754",
   "metadata": {},
   "outputs": [],
   "source": [
    "def preprocess_tweet(tweet):\n",
    "    processed_tweet = []\n",
    "    tweet = tweet.lower()\n",
    "    tweet = re.sub(r'((www\\.[\\S]+)|(https?://[\\S]+))', ' ', tweet)\n",
    "    tweet = re.sub(r'@[\\S]+','', tweet)\n",
    "    tweet = re.sub(r'#(\\S+)', r' \\1 ', tweet)\n",
    "    tweet = re.sub(r'\\brt\\b', '', tweet)\n",
    "    tweet = re.sub(r'\\.{2,}', ' ', tweet)\n",
    "    tweet = tweet.strip(' \"\\'')\n",
    "    tweet = re.sub(r'\\s+', ' ', tweet)\n",
    "    words = tweet.split()\n",
    "    ps = PorterStemmer()\n",
    "\n",
    "    for word in words:\n",
    "        word = preprocess_word(word)\n",
    "        #word = str(ps.stem(word))\n",
    "        processed_tweet.append(word)\n",
    "    filtered_words = [w for w in processed_tweet if not w in stop_words]\n",
    "            \n",
    "    return ' '.join(filtered_words)"
   ]
  },
  {
   "cell_type": "code",
   "execution_count": 11,
   "id": "9feb205b",
   "metadata": {},
   "outputs": [],
   "source": [
    "df['clean_tweet'] = df['tweet'].apply(lambda x:preprocess_tweet(x))"
   ]
  },
  {
   "cell_type": "code",
   "execution_count": 12,
   "id": "98b4d298",
   "metadata": {},
   "outputs": [
    {
     "data": {
      "text/html": [
       "<div>\n",
       "<style scoped>\n",
       "    .dataframe tbody tr th:only-of-type {\n",
       "        vertical-align: middle;\n",
       "    }\n",
       "\n",
       "    .dataframe tbody tr th {\n",
       "        vertical-align: top;\n",
       "    }\n",
       "\n",
       "    .dataframe thead th {\n",
       "        text-align: right;\n",
       "    }\n",
       "</style>\n",
       "<table border=\"1\" class=\"dataframe\">\n",
       "  <thead>\n",
       "    <tr style=\"text-align: right;\">\n",
       "      <th></th>\n",
       "      <th>tweet</th>\n",
       "      <th>label</th>\n",
       "      <th>clean_tweet</th>\n",
       "    </tr>\n",
       "  </thead>\n",
       "  <tbody>\n",
       "    <tr>\n",
       "      <th>0</th>\n",
       "      <td>Coronavirus | Human Coronavirus Types | CDC ht...</td>\n",
       "      <td>neu</td>\n",
       "      <td>coronavirus | human coronavirus types | cdc</td>\n",
       "    </tr>\n",
       "    <tr>\n",
       "      <th>1</th>\n",
       "      <td>@shehryar_taseer That‚Äôs üíØ true , \\nCorona...</td>\n",
       "      <td>neu</td>\n",
       "      <td>that‚äôs üíø true  corona virus swine flue bi...</td>\n",
       "    </tr>\n",
       "    <tr>\n",
       "      <th>2</th>\n",
       "      <td>TLDR: Not SARS, possibly new coronavirus. Diff...</td>\n",
       "      <td>neg</td>\n",
       "      <td>tldr sars possibly new coronavirus difficult c...</td>\n",
       "    </tr>\n",
       "    <tr>\n",
       "      <th>3</th>\n",
       "      <td>Disease outbreak news from the WHO: Middle Eas...</td>\n",
       "      <td>neu</td>\n",
       "      <td>disease outbreak news middle east respiratory ...</td>\n",
       "    </tr>\n",
       "    <tr>\n",
       "      <th>4</th>\n",
       "      <td>China - Media: WSJ says sources tell them myst...</td>\n",
       "      <td>neu</td>\n",
       "      <td>china  media wsj says sources tell mystery pne...</td>\n",
       "    </tr>\n",
       "  </tbody>\n",
       "</table>\n",
       "</div>"
      ],
      "text/plain": [
       "                                               tweet label  \\\n",
       "0  Coronavirus | Human Coronavirus Types | CDC ht...   neu   \n",
       "1  @shehryar_taseer That‚Äôs üíØ true , \\nCorona...   neu   \n",
       "2  TLDR: Not SARS, possibly new coronavirus. Diff...   neg   \n",
       "3  Disease outbreak news from the WHO: Middle Eas...   neu   \n",
       "4  China - Media: WSJ says sources tell them myst...   neu   \n",
       "\n",
       "                                         clean_tweet  \n",
       "0        coronavirus | human coronavirus types | cdc  \n",
       "1  that‚äôs üíø true  corona virus swine flue bi...  \n",
       "2  tldr sars possibly new coronavirus difficult c...  \n",
       "3  disease outbreak news middle east respiratory ...  \n",
       "4  china  media wsj says sources tell mystery pne...  "
      ]
     },
     "execution_count": 12,
     "metadata": {},
     "output_type": "execute_result"
    }
   ],
   "source": [
    "df.head()"
   ]
  },
  {
   "cell_type": "code",
   "execution_count": 13,
   "id": "5862f89b",
   "metadata": {},
   "outputs": [
    {
     "name": "stdout",
     "output_type": "stream",
     "text": [
      "cool dummysmiley  p <3 arrows < > > <\n"
     ]
    }
   ],
   "source": [
    "a=preprocess_tweet(\"This is a cooool #dummysmiley: :-) :-P <3 and some arrows < > -> <--\")\n",
    "print(a)"
   ]
  },
  {
   "cell_type": "code",
   "execution_count": 14,
   "id": "3b3a7b1f",
   "metadata": {},
   "outputs": [],
   "source": [
    "from sklearn.feature_extraction.text import TfidfVectorizer\n",
    "from sklearn.model_selection import train_test_split\n",
    "from sklearn.svm import SVC"
   ]
  },
  {
   "cell_type": "code",
   "execution_count": 15,
   "id": "312ce8c7",
   "metadata": {},
   "outputs": [],
   "source": [
    "X = df['clean_tweet']"
   ]
  },
  {
   "cell_type": "code",
   "execution_count": 16,
   "id": "c33bdb01",
   "metadata": {},
   "outputs": [],
   "source": [
    "y = df['label']"
   ]
  },
  {
   "cell_type": "code",
   "execution_count": 17,
   "id": "8ddc7e19",
   "metadata": {},
   "outputs": [],
   "source": [
    "x_train,x_test,y_train,y_test=train_test_split(X,y,test_size=0.2,random_state=68)"
   ]
  },
  {
   "cell_type": "code",
   "execution_count": 18,
   "id": "1121a3e6",
   "metadata": {},
   "outputs": [
    {
     "name": "stdout",
     "output_type": "stream",
     "text": [
      "(24000,) (6000,)\n"
     ]
    }
   ],
   "source": [
    "print(x_train.shape,x_test.shape)"
   ]
  },
  {
   "cell_type": "code",
   "execution_count": 19,
   "id": "2fa0929a",
   "metadata": {},
   "outputs": [],
   "source": [
    "tfv=TfidfVectorizer()\n",
    "train_vec = tfv.fit_transform(x_train)\n",
    "test_vec = tfv.transform(x_test)"
   ]
  },
  {
   "cell_type": "code",
   "execution_count": 20,
   "id": "fd870d5a",
   "metadata": {},
   "outputs": [],
   "source": [
    "model=SVC(kernel='linear')\n",
    "model.fit(train_vec,y_train)\n",
    "pred=model.predict(test_vec)"
   ]
  },
  {
   "cell_type": "code",
   "execution_count": 21,
   "id": "fa2b08fd",
   "metadata": {},
   "outputs": [
    {
     "name": "stdout",
     "output_type": "stream",
     "text": [
      "0.8956666666666667\n"
     ]
    }
   ],
   "source": [
    "from sklearn.metrics import accuracy_score\n",
    "print(accuracy_score(y_test,pred))"
   ]
  },
  {
   "cell_type": "code",
   "execution_count": 22,
   "id": "3b21308b",
   "metadata": {},
   "outputs": [],
   "source": [
    "from sklearn import metrics\n",
    "from sklearn.metrics import ConfusionMatrixDisplay"
   ]
  },
  {
   "cell_type": "code",
   "execution_count": 23,
   "id": "b6a5d1f5",
   "metadata": {},
   "outputs": [
    {
     "data": {
      "text/plain": [
       "<sklearn.metrics._plot.confusion_matrix.ConfusionMatrixDisplay at 0x2a450aecf70>"
      ]
     },
     "execution_count": 23,
     "metadata": {},
     "output_type": "execute_result"
    },
    {
     "data": {
      "image/png": "[encoded data removed]",
      "text/plain": [
       "<Figure size 432x288 with 2 Axes>"
      ]
     },
     "metadata": {
      "needs_background": "light"
     },
     "output_type": "display_data"
    }
   ],
   "source": [
    "ConfusionMatrixDisplay.from_predictions(y_test,pred)"
   ]
  },
  {
   "cell_type": "code",
   "execution_count": null,
   "id": "46a7fd13",
   "metadata": {},
   "outputs": [],
   "source": []
  }
 ],
 "metadata": {
  "kernelspec": {
   "display_name": "Python 3 (ipykernel)",
   "language": "python",
   "name": "python3"
  },
  "language_info": {
   "codemirror_mode": {
    "name": "ipython",
    "version": 3
   },
   "file_extension": ".py",
   "mimetype": "text/x-python",
   "name": "python",
   "nbconvert_exporter": "python",
   "pygments_lexer": "ipython3",
   "version": "3.10.2"
  }
 },
 "nbformat": 4,
 "nbformat_minor": 5
}
